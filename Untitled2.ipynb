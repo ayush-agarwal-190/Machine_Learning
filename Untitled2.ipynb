{
  "nbformat": 4,
  "nbformat_minor": 0,
  "metadata": {
    "colab": {
      "provenance": [],
      "toc_visible": true
    },
    "kernelspec": {
      "name": "python3",
      "display_name": "Python 3"
    },
    "language_info": {
      "name": "python"
    }
  },
  "cells": [
    {
      "cell_type": "code",
      "execution_count": null,
      "metadata": {
        "id": "aNbXqy1I0vUw"
      },
      "outputs": [],
      "source": []
    },
    {
      "cell_type": "code",
      "source": [
        "import matplotlib.pyplot as plt\n",
        "import numpy as np\n",
        "import pandas as pd\n",
        "import tensorflow as tf\n",
        "\n",
        "from sklearn.metrics import accuracy_score, precision_score, recall_score\n",
        "from sklearn.model_selection import train_test_split\n",
        "from keras import layers, losses\n",
        "from keras.datasets import mnist\n",
        "from keras.models import Model"
      ],
      "metadata": {
        "id": "95ofREtl004_"
      },
      "execution_count": 1,
      "outputs": []
    },
    {
      "cell_type": "code",
      "source": [
        "(x_train, _), (x_test, _) = mnist.load_data()\n",
        "\n",
        "# Normalizing pixel values to the range [0, 1]\n",
        "x_train = x_train.astype('float32') / 255.\n",
        "x_test = x_test.astype('float32') / 255.\n",
        "\n",
        "# Displaying the shapes of the training and testing datasets\n",
        "print(\"Shape of the training data:\", x_train.shape)\n",
        "print(\"Shape of the testing data:\", x_test.shape)\n"
      ],
      "metadata": {
        "colab": {
          "base_uri": "https://localhost:8080/"
        },
        "id": "zU8_1nH09e5x",
        "outputId": "fb577447-21c0-458a-c49c-297c93cfe70a"
      },
      "execution_count": 2,
      "outputs": [
        {
          "output_type": "stream",
          "name": "stdout",
          "text": [
            "Downloading data from https://storage.googleapis.com/tensorflow/tf-keras-datasets/mnist.npz\n",
            "11490434/11490434 [==============================] - 0s 0us/step\n",
            "Shape of the training data: (60000, 28, 28)\n",
            "Shape of the testing data: (10000, 28, 28)\n"
          ]
        }
      ]
    },
    {
      "cell_type": "code",
      "source": [
        "class SimpleAutoencoder(Model):\n",
        "    def __init__(self,latent_dimensions , data_shape):\n",
        "        super(SimpleAutoencoder, self).__init__()\n",
        "        self.latent_dimensions = latent_dimensions\n",
        "        self.data_shape = data_shape\n",
        "\n",
        "        # Encoder architecture using a Sequential model\n",
        "        self.encoder = tf.keras.Sequential([\n",
        "            layers.Flatten(),\n",
        "            layers.Dense(latent_dimensions, activation='relu'),\n",
        "        ])\n",
        "\n",
        "        # Decoder architecture using another Sequential model\n",
        "        self.decoder = tf.keras.Sequential([\n",
        "            layers.Dense(tf.math.reduce_prod(data_shape), activation='sigmoid'),\n",
        "            layers.Reshape(data_shape)\n",
        "        ])\n",
        "\n",
        "    # Forward pass method defining the encoding and decoding steps\n",
        "    def call(self, input_data):\n",
        "        encoded_data = self.encoder(input_data)\n",
        "        decoded_data = self.decoder(encoded_data)\n",
        "        return decoded_data\n",
        "\n",
        "# Extracting shape information from the testing dataset\n",
        "input_data_shape = x_test.shape[1:]\n",
        "\n",
        "# Specifying the dimensionality of the latent space\n",
        "latent_dimensions = 64\n",
        "\n",
        "# Creating an instance of the SimpleAutoencoder model\n",
        "simple_autoencoder = SimpleAutoencoder(latent_dimensions, input_data_shape)"
      ],
      "metadata": {
        "id": "EBmU8fpu9too"
      },
      "execution_count": 3,
      "outputs": []
    },
    {
      "cell_type": "code",
      "source": [
        "simple_autoencoder.compile(optimizer='adam', loss=losses.MeanSquaredError())\n",
        "\n",
        "simple_autoencoder.fit(x_train, x_train,\n",
        "                epochs=1,\n",
        "                shuffle=True,\n",
        "                validation_data=(x_test, x_test))"
      ],
      "metadata": {
        "colab": {
          "base_uri": "https://localhost:8080/"
        },
        "id": "CBLDgo8i9v0Z",
        "outputId": "3c0917ea-93b3-4bd3-94fd-d90df57b173c"
      },
      "execution_count": 4,
      "outputs": [
        {
          "output_type": "stream",
          "name": "stdout",
          "text": [
            "1875/1875 [==============================] - 7s 3ms/step - loss: 0.0239 - val_loss: 0.0094\n"
          ]
        },
        {
          "output_type": "execute_result",
          "data": {
            "text/plain": [
              "<keras.src.callbacks.History at 0x7d2ab45d0a00>"
            ]
          },
          "metadata": {},
          "execution_count": 4
        }
      ]
    },
    {
      "cell_type": "code",
      "source": [
        "encoded_imgs = simple_autoencoder.encoder(x_test).numpy()\n",
        "decoded_imgs = simple_autoencoder.decoder(encoded_imgs).numpy()\n",
        "\n",
        "n = 6\n",
        "plt.figure(figsize=(8, 4))\n",
        "for i in range(n):\n",
        "  # display original\n",
        "  ax = plt.subplot(2, n, i + 1)\n",
        "  plt.imshow(x_test[i])\n",
        "  plt.title(\"original\")\n",
        "  plt.gray()\n",
        "\n",
        "  # display reconstruction\n",
        "  ax = plt.subplot(2, n, i + 1 + n)\n",
        "  plt.imshow(decoded_imgs[i])\n",
        "  plt.title(\"reconstructed\")\n",
        "  plt.gray()\n",
        "\n",
        "plt.show()"
      ],
      "metadata": {
        "colab": {
          "base_uri": "https://localhost:8080/",
          "height": 339
        },
        "id": "20F1RoAu90ty",
        "outputId": "30a2ebbe-b9bf-4334-9a63-d7edc4a3e939"
      },
      "execution_count": 5,
      "outputs": [
        {
          "output_type": "display_data",
          "data": {
            "text/plain": [
              "<Figure size 800x400 with 12 Axes>"
            ],
            "image/png": "[encoded data removed]"
          },
          "metadata": {}
        }
      ]
    }
  ]
}