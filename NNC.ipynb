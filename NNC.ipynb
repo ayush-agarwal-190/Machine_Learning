{
  "nbformat": 4,
  "nbformat_minor": 0,
  "metadata": {
    "colab": {
      "provenance": []
    },
    "kernelspec": {
      "name": "python3",
      "display_name": "Python 3"
    },
    "language_info": {
      "name": "python"
    }
  },
  "cells": [
    {
      "cell_type": "code",
      "execution_count": null,
      "metadata": {
        "id": "zqAyBGPvIqJG"
      },
      "outputs": [],
      "source": []
    },
    {
      "cell_type": "markdown",
      "source": [
        "Sigmoid Activation"
      ],
      "metadata": {
        "id": "mcss03wpJjeI"
      }
    },
    {
      "cell_type": "code",
      "source": [
        "import numpy as np\n",
        "\n",
        "def sigmoid(x):\n",
        "    return 1 / (1 + np.exp(-x))\n",
        "\n",
        "# Test the sigmoid function\n",
        "x = np.array([1, 2, 3])\n",
        "print(sigmoid(x))\n"
      ],
      "metadata": {
        "colab": {
          "base_uri": "https://localhost:8080/"
        },
        "id": "9zd_VH9kJj_u",
        "outputId": "a65d7e3f-a0b9-42c2-82cb-4d0de0040ece"
      },
      "execution_count": 1,
      "outputs": [
        {
          "output_type": "stream",
          "name": "stdout",
          "text": [
            "[0.73105858 0.88079708 0.95257413]\n"
          ]
        }
      ]
    },
    {
      "cell_type": "markdown",
      "source": [
        "ReLU Activation\n"
      ],
      "metadata": {
        "id": "EPE2vtjwJnkW"
      }
    },
    {
      "cell_type": "code",
      "source": [
        "def relu(x):\n",
        "    return np.maximum(0, x)\n",
        "\n",
        "# Test the ReLU function\n",
        "x = np.array([-1, 0, 1])\n",
        "print(relu(x))\n"
      ],
      "metadata": {
        "colab": {
          "base_uri": "https://localhost:8080/"
        },
        "id": "qSQ70KEYJoZb",
        "outputId": "b85dc18b-45c8-4595-e968-31580831f9ca"
      },
      "execution_count": 2,
      "outputs": [
        {
          "output_type": "stream",
          "name": "stdout",
          "text": [
            "[0 0 1]\n"
          ]
        }
      ]
    },
    {
      "cell_type": "markdown",
      "source": [
        "Tanh Activation"
      ],
      "metadata": {
        "id": "ZMHEmKpfJsMe"
      }
    },
    {
      "cell_type": "code",
      "source": [
        "def tanh(x):\n",
        "    return np.tanh(x)\n",
        "\n",
        "# Test the Tanh function\n",
        "x = np.array([-1, 0, 1])\n",
        "print(tanh(x))\n"
      ],
      "metadata": {
        "colab": {
          "base_uri": "https://localhost:8080/"
        },
        "id": "FTxAVKsAJsxf",
        "outputId": "d0f99125-3f2b-4248-8734-16b7c26fdb13"
      },
      "execution_count": 3,
      "outputs": [
        {
          "output_type": "stream",
          "name": "stdout",
          "text": [
            "[-0.76159416  0.          0.76159416]\n"
          ]
        }
      ]
    },
    {
      "cell_type": "markdown",
      "source": [
        "GELU Activation\n"
      ],
      "metadata": {
        "id": "3eiYXOBSJwDG"
      }
    },
    {
      "cell_type": "code",
      "source": [
        "def gelu(x):\n",
        "    return 0.5 * x * (1 + np.tanh(np.sqrt(2 / np.pi) * (x + 0.044715 * x**3)))\n",
        "\n",
        "# Test the GELU function\n",
        "x = np.array([-1, 0, 1])\n",
        "print(gelu(x))\n"
      ],
      "metadata": {
        "colab": {
          "base_uri": "https://localhost:8080/"
        },
        "id": "RF_vLwo_Jwp4",
        "outputId": "90336248-648e-4d58-98dd-76b429e4a2f5"
      },
      "execution_count": 4,
      "outputs": [
        {
          "output_type": "stream",
          "name": "stdout",
          "text": [
            "[-0.15880801  0.          0.84119199]\n"
          ]
        }
      ]
    },
    {
      "cell_type": "markdown",
      "source": [
        "Loss Functions Cross-Entropy Loss"
      ],
      "metadata": {
        "id": "aLfc0xlzJ0pW"
      }
    },
    {
      "cell_type": "code",
      "source": [
        "def cross_entropy_loss(y_true, y_pred):\n",
        "    epsilon = 1e-15\n",
        "    y_pred = np.clip(y_pred, epsilon, 1 - epsilon)\n",
        "    return -np.mean(y_true * np.log(y_pred) + (1 - y_true) * np.log(1 - y_pred))\n",
        "\n",
        "# Test the cross-entropy loss function\n",
        "y_true = np.array([1, 0, 1])\n",
        "y_pred = np.array([0.9, 0.1, 0.8])\n",
        "print(cross_entropy_loss(y_true, y_pred))\n"
      ],
      "metadata": {
        "colab": {
          "base_uri": "https://localhost:8080/"
        },
        "id": "STvIBoCzJ2X3",
        "outputId": "d796aa32-d610-4438-f5da-f31b73c15d3c"
      },
      "execution_count": 5,
      "outputs": [
        {
          "output_type": "stream",
          "name": "stdout",
          "text": [
            "0.14462152754328741\n"
          ]
        }
      ]
    },
    {
      "cell_type": "markdown",
      "source": [
        "Mean Squared Error (MSE) Loss"
      ],
      "metadata": {
        "id": "Kmdp5fHSJ6ge"
      }
    },
    {
      "cell_type": "code",
      "source": [
        "def mse_loss(y_true, y_pred):\n",
        "    return np.mean((y_true - y_pred)**2)\n",
        "\n",
        "# Test the MSE loss function\n",
        "y_true = np.array([1, 2, 3])\n",
        "y_pred = np.array([0.9, 2.1, 2.8])\n",
        "print(mse_loss(y_true, y_pred))\n"
      ],
      "metadata": {
        "colab": {
          "base_uri": "https://localhost:8080/"
        },
        "id": "NfmPPOqmJ7LT",
        "outputId": "0c058eda-96ba-4d36-9cf3-14691d0faec2"
      },
      "execution_count": 6,
      "outputs": [
        {
          "output_type": "stream",
          "name": "stdout",
          "text": [
            "0.020000000000000028\n"
          ]
        }
      ]
    },
    {
      "cell_type": "markdown",
      "source": [
        "Custom Activation and Loss Functions"
      ],
      "metadata": {
        "id": "bRH00VNlJ_NO"
      }
    },
    {
      "cell_type": "code",
      "source": [
        "def custom_activation(x):\n",
        "    return np.sin(x) + np.cos(x)\n",
        "\n",
        "# Test the custom activation function\n",
        "x = np.array([0, np.pi/4, np.pi/2])\n",
        "print(custom_activation(x))\n"
      ],
      "metadata": {
        "colab": {
          "base_uri": "https://localhost:8080/"
        },
        "id": "FycMayxpJ_rY",
        "outputId": "2bf5234c-ad40-4b45-e915-db6c1f597746"
      },
      "execution_count": 7,
      "outputs": [
        {
          "output_type": "stream",
          "name": "stdout",
          "text": [
            "[1.         1.41421356 1.        ]\n"
          ]
        }
      ]
    },
    {
      "cell_type": "markdown",
      "source": [
        "Custom Loss Function"
      ],
      "metadata": {
        "id": "30PgUE5wKiKG"
      }
    },
    {
      "cell_type": "code",
      "source": [
        "def custom_loss(y_true, y_pred):\n",
        "    return np.mean(np.abs(y_true - y_pred))\n",
        "\n",
        "# Test the custom loss function\n",
        "y_true = np.array([1, 2, 3])\n",
        "y_pred = np.array([0.9, 2.1, 2.8])\n",
        "print(custom_loss(y_true, y_pred))\n"
      ],
      "metadata": {
        "colab": {
          "base_uri": "https://localhost:8080/"
        },
        "id": "Xl7BUyM3KipQ",
        "outputId": "23ca123c-d291-4d79-a47a-7e90e4a95891"
      },
      "execution_count": 8,
      "outputs": [
        {
          "output_type": "stream",
          "name": "stdout",
          "text": [
            "0.13333333333333341\n"
          ]
        }
      ]
    }
  ]
}